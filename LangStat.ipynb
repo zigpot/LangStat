{
 "cells": [
  {
   "cell_type": "code",
   "execution_count": 1,
   "id": "8721135b",
   "metadata": {},
   "outputs": [],
   "source": [
    "import requests\n",
    "import matplotlib.pyplot as plt\n",
    "def getGithubUserRepos( uname ):\n",
    "    return \"https://api.github.com/users/\" + uname + \"/repos\""
   ]
  },
  {
   "cell_type": "code",
   "execution_count": 2,
   "id": "89839f7c",
   "metadata": {},
   "outputs": [],
   "source": [
    "myUsername = \"zigpot\"\n",
    "myGithubUserRepoRequest = getGithubUserRepos(myUsername)"
   ]
  },
  {
   "cell_type": "code",
   "execution_count": 3,
   "id": "71e9d84f",
   "metadata": {},
   "outputs": [],
   "source": [
    "# TODO: Overcome low rate limit using authentication, ref: https://docs.github.com/en/apps/creating-github-apps/creating-github-apps/rate-limits-for-github-apps\n",
    "response = requests.get(myGithubUserRepoRequest)"
   ]
  },
  {
   "cell_type": "code",
   "execution_count": 8,
   "id": "663940ca",
   "metadata": {},
   "outputs": [],
   "source": [
    "# TODO: Handle response error (using try catch)\n",
    "def getLangsStat(response):\n",
    "    langs = {}\n",
    "    if(response.status_code == 200):\n",
    "        print(\"success!\")\n",
    "        print(response.json())\n",
    "        for item in response.json():\n",
    "            langResponse = requests.get(item['languages_url']);\n",
    "            if(langResponse.status_code == 200):\n",
    "                print(langs)\n",
    "                A = langs\n",
    "                B = langResponse.json()\n",
    "                c = {x: A.get(x, 0) + B.get(x, 0) for x in set(A).union(B)}\n",
    "                langs = c\n",
    "    else:\n",
    "        # TODO: response error\n",
    "        print(\"failed with status code: \", response.status_code)\n",
    "        print(response.reason)\n",
    "    return langs"
   ]
  },
  {
   "cell_type": "code",
   "execution_count": 9,
   "id": "0f478a70",
   "metadata": {},
   "outputs": [
    {
     "name": "stdout",
     "output_type": "stream",
     "text": [
      "failed with status code:  403\n",
      "rate limit exceeded\n"
     ]
    },
    {
     "data": {
      "image/png": "[encoded data removed]",
      "text/plain": [
       "<Figure size 432x288 with 1 Axes>"
      ]
     },
     "metadata": {},
     "output_type": "display_data"
    },
    {
     "name": "stdout",
     "output_type": "stream",
     "text": [
      "{}\n"
     ]
    }
   ],
   "source": [
    "langs = getLangsStat(response)\n",
    "\n",
    "langsLabels = list(langs.keys())\n",
    "langsValues = list(langs.values())\n",
    "\n",
    "#TODO github language colors, ref: https://github.com/ozh/github-colors\n",
    "\n",
    "plt.pie(langsValues, labels=langsLabels)\n",
    "plt.show()\n",
    "\n",
    "sortedLangsRev = dict(sorted(langs.items(), key = lambda x: x[1], reverse=True))\n",
    "print(sortedLangsRev)"
   ]
  }
 ],
 "metadata": {
  "kernelspec": {
   "display_name": "Python 3 (ipykernel)",
   "language": "python",
   "name": "python3"
  },
  "language_info": {
   "codemirror_mode": {
    "name": "ipython",
    "version": 3
   },
   "file_extension": ".py",
   "mimetype": "text/x-python",
   "name": "python",
   "nbconvert_exporter": "python",
   "pygments_lexer": "ipython3",
   "version": "3.10.6"
  }
 },
 "nbformat": 4,
 "nbformat_minor": 5
}
